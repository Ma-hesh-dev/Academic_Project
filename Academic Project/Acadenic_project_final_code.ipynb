{
 "cells": [
  {
   "cell_type": "code",
   "execution_count": 3,
   "metadata": {},
   "outputs": [],
   "source": [
    "## Import different libraries\n",
    "\n",
    "import pandas as pd\n",
    "import numpy as np\n",
    "import matplotlib.pyplot as plt\n",
    "import seaborn as sns\n",
    "%matplotlib inline\n",
    "from sklearn.metrics import confusion_matrix\n",
    "from sklearn.svm import SVC\n",
    "from sklearn.neighbors import KNeighborsClassifier\n",
    "from sklearn.tree import DecisionTreeClassifier\n",
    "from sklearn.ensemble import RandomForestClassifier\n",
    "import pickle\n",
    "from sklearn.utils import resample\n"
   ]
  },
  {
   "cell_type": "code",
   "execution_count": 4,
   "metadata": {},
   "outputs": [],
   "source": [
    "## Reading the data\n",
    "data = pd.read_csv(\"C:/Users/HP/OneDrive/Documents/thyroid new_project/thyroid/test11.csv\")"
   ]
  },
  {
   "cell_type": "code",
   "execution_count": 5,
   "metadata": {},
   "outputs": [
    {
     "data": {
      "text/html": [
       "<div>\n",
       "<style scoped>\n",
       "    .dataframe tbody tr th:only-of-type {\n",
       "        vertical-align: middle;\n",
       "    }\n",
       "\n",
       "    .dataframe tbody tr th {\n",
       "        vertical-align: top;\n",
       "    }\n",
       "\n",
       "    .dataframe thead th {\n",
       "        text-align: right;\n",
       "    }\n",
       "</style>\n",
       "<table border=\"1\" class=\"dataframe\">\n",
       "  <thead>\n",
       "    <tr style=\"text-align: right;\">\n",
       "      <th></th>\n",
       "      <th>S.no</th>\n",
       "      <th>Age</th>\n",
       "      <th>Sex</th>\n",
       "      <th>On Thyroxine</th>\n",
       "      <th>Query on Thyroxine</th>\n",
       "      <th>On Antithyroid Medication</th>\n",
       "      <th>Sick</th>\n",
       "      <th>Pregnant</th>\n",
       "      <th>Thyroid Surgery</th>\n",
       "      <th>I131 Treatment</th>\n",
       "      <th>...</th>\n",
       "      <th>TSH</th>\n",
       "      <th>T3 Measured</th>\n",
       "      <th>T3</th>\n",
       "      <th>TT4 Measured</th>\n",
       "      <th>TT4</th>\n",
       "      <th>T4U Measured</th>\n",
       "      <th>T4U</th>\n",
       "      <th>FTI Measured</th>\n",
       "      <th>FTI</th>\n",
       "      <th>Category</th>\n",
       "    </tr>\n",
       "  </thead>\n",
       "  <tbody>\n",
       "    <tr>\n",
       "      <th>0</th>\n",
       "      <td>0</td>\n",
       "      <td>41</td>\n",
       "      <td>F</td>\n",
       "      <td>f</td>\n",
       "      <td>f</td>\n",
       "      <td>f</td>\n",
       "      <td>f</td>\n",
       "      <td>f</td>\n",
       "      <td>f</td>\n",
       "      <td>f</td>\n",
       "      <td>...</td>\n",
       "      <td>1.3</td>\n",
       "      <td>t</td>\n",
       "      <td>2.5</td>\n",
       "      <td>t</td>\n",
       "      <td>125</td>\n",
       "      <td>t</td>\n",
       "      <td>1.14</td>\n",
       "      <td>t</td>\n",
       "      <td>109</td>\n",
       "      <td>negative</td>\n",
       "    </tr>\n",
       "    <tr>\n",
       "      <th>1</th>\n",
       "      <td>1</td>\n",
       "      <td>23</td>\n",
       "      <td>F</td>\n",
       "      <td>f</td>\n",
       "      <td>f</td>\n",
       "      <td>f</td>\n",
       "      <td>f</td>\n",
       "      <td>f</td>\n",
       "      <td>f</td>\n",
       "      <td>f</td>\n",
       "      <td>...</td>\n",
       "      <td>4.1</td>\n",
       "      <td>t</td>\n",
       "      <td>2</td>\n",
       "      <td>t</td>\n",
       "      <td>102</td>\n",
       "      <td>f</td>\n",
       "      <td>?</td>\n",
       "      <td>f</td>\n",
       "      <td>?</td>\n",
       "      <td>negative</td>\n",
       "    </tr>\n",
       "    <tr>\n",
       "      <th>2</th>\n",
       "      <td>2</td>\n",
       "      <td>46</td>\n",
       "      <td>M</td>\n",
       "      <td>f</td>\n",
       "      <td>f</td>\n",
       "      <td>f</td>\n",
       "      <td>f</td>\n",
       "      <td>f</td>\n",
       "      <td>f</td>\n",
       "      <td>f</td>\n",
       "      <td>...</td>\n",
       "      <td>0.98</td>\n",
       "      <td>f</td>\n",
       "      <td>?</td>\n",
       "      <td>t</td>\n",
       "      <td>109</td>\n",
       "      <td>t</td>\n",
       "      <td>0.91</td>\n",
       "      <td>t</td>\n",
       "      <td>120</td>\n",
       "      <td>negative</td>\n",
       "    </tr>\n",
       "    <tr>\n",
       "      <th>3</th>\n",
       "      <td>3</td>\n",
       "      <td>70</td>\n",
       "      <td>F</td>\n",
       "      <td>t</td>\n",
       "      <td>f</td>\n",
       "      <td>f</td>\n",
       "      <td>f</td>\n",
       "      <td>f</td>\n",
       "      <td>f</td>\n",
       "      <td>f</td>\n",
       "      <td>...</td>\n",
       "      <td>0.16</td>\n",
       "      <td>t</td>\n",
       "      <td>1.9</td>\n",
       "      <td>t</td>\n",
       "      <td>175</td>\n",
       "      <td>f</td>\n",
       "      <td>?</td>\n",
       "      <td>f</td>\n",
       "      <td>?</td>\n",
       "      <td>negative</td>\n",
       "    </tr>\n",
       "    <tr>\n",
       "      <th>4</th>\n",
       "      <td>4</td>\n",
       "      <td>70</td>\n",
       "      <td>F</td>\n",
       "      <td>f</td>\n",
       "      <td>f</td>\n",
       "      <td>f</td>\n",
       "      <td>f</td>\n",
       "      <td>f</td>\n",
       "      <td>f</td>\n",
       "      <td>f</td>\n",
       "      <td>...</td>\n",
       "      <td>0.72</td>\n",
       "      <td>t</td>\n",
       "      <td>1.2</td>\n",
       "      <td>t</td>\n",
       "      <td>61</td>\n",
       "      <td>t</td>\n",
       "      <td>0.87</td>\n",
       "      <td>t</td>\n",
       "      <td>70</td>\n",
       "      <td>negative</td>\n",
       "    </tr>\n",
       "    <tr>\n",
       "      <th>5</th>\n",
       "      <td>5</td>\n",
       "      <td>18</td>\n",
       "      <td>F</td>\n",
       "      <td>t</td>\n",
       "      <td>f</td>\n",
       "      <td>f</td>\n",
       "      <td>f</td>\n",
       "      <td>f</td>\n",
       "      <td>f</td>\n",
       "      <td>f</td>\n",
       "      <td>...</td>\n",
       "      <td>0.03</td>\n",
       "      <td>f</td>\n",
       "      <td>?</td>\n",
       "      <td>t</td>\n",
       "      <td>183</td>\n",
       "      <td>t</td>\n",
       "      <td>1.3</td>\n",
       "      <td>t</td>\n",
       "      <td>141</td>\n",
       "      <td>negative</td>\n",
       "    </tr>\n",
       "    <tr>\n",
       "      <th>6</th>\n",
       "      <td>6</td>\n",
       "      <td>59</td>\n",
       "      <td>F</td>\n",
       "      <td>f</td>\n",
       "      <td>f</td>\n",
       "      <td>f</td>\n",
       "      <td>f</td>\n",
       "      <td>f</td>\n",
       "      <td>f</td>\n",
       "      <td>f</td>\n",
       "      <td>...</td>\n",
       "      <td>?</td>\n",
       "      <td>f</td>\n",
       "      <td>?</td>\n",
       "      <td>t</td>\n",
       "      <td>72</td>\n",
       "      <td>t</td>\n",
       "      <td>0.92</td>\n",
       "      <td>t</td>\n",
       "      <td>78</td>\n",
       "      <td>negative</td>\n",
       "    </tr>\n",
       "    <tr>\n",
       "      <th>7</th>\n",
       "      <td>7</td>\n",
       "      <td>80</td>\n",
       "      <td>F</td>\n",
       "      <td>f</td>\n",
       "      <td>f</td>\n",
       "      <td>f</td>\n",
       "      <td>f</td>\n",
       "      <td>f</td>\n",
       "      <td>f</td>\n",
       "      <td>f</td>\n",
       "      <td>...</td>\n",
       "      <td>2.2</td>\n",
       "      <td>t</td>\n",
       "      <td>0.6</td>\n",
       "      <td>t</td>\n",
       "      <td>80</td>\n",
       "      <td>t</td>\n",
       "      <td>0.7</td>\n",
       "      <td>t</td>\n",
       "      <td>115</td>\n",
       "      <td>negative</td>\n",
       "    </tr>\n",
       "    <tr>\n",
       "      <th>8</th>\n",
       "      <td>8</td>\n",
       "      <td>66</td>\n",
       "      <td>F</td>\n",
       "      <td>f</td>\n",
       "      <td>f</td>\n",
       "      <td>f</td>\n",
       "      <td>f</td>\n",
       "      <td>f</td>\n",
       "      <td>f</td>\n",
       "      <td>f</td>\n",
       "      <td>...</td>\n",
       "      <td>0.6</td>\n",
       "      <td>t</td>\n",
       "      <td>2.2</td>\n",
       "      <td>t</td>\n",
       "      <td>123</td>\n",
       "      <td>t</td>\n",
       "      <td>0.93</td>\n",
       "      <td>t</td>\n",
       "      <td>132</td>\n",
       "      <td>negative</td>\n",
       "    </tr>\n",
       "    <tr>\n",
       "      <th>9</th>\n",
       "      <td>9</td>\n",
       "      <td>68</td>\n",
       "      <td>M</td>\n",
       "      <td>f</td>\n",
       "      <td>f</td>\n",
       "      <td>f</td>\n",
       "      <td>f</td>\n",
       "      <td>f</td>\n",
       "      <td>f</td>\n",
       "      <td>f</td>\n",
       "      <td>...</td>\n",
       "      <td>2.4</td>\n",
       "      <td>t</td>\n",
       "      <td>1.6</td>\n",
       "      <td>t</td>\n",
       "      <td>83</td>\n",
       "      <td>t</td>\n",
       "      <td>0.89</td>\n",
       "      <td>t</td>\n",
       "      <td>93</td>\n",
       "      <td>negative</td>\n",
       "    </tr>\n",
       "    <tr>\n",
       "      <th>10</th>\n",
       "      <td>10</td>\n",
       "      <td>84</td>\n",
       "      <td>F</td>\n",
       "      <td>f</td>\n",
       "      <td>f</td>\n",
       "      <td>f</td>\n",
       "      <td>f</td>\n",
       "      <td>f</td>\n",
       "      <td>f</td>\n",
       "      <td>f</td>\n",
       "      <td>...</td>\n",
       "      <td>1.1</td>\n",
       "      <td>t</td>\n",
       "      <td>2.2</td>\n",
       "      <td>t</td>\n",
       "      <td>115</td>\n",
       "      <td>t</td>\n",
       "      <td>0.95</td>\n",
       "      <td>t</td>\n",
       "      <td>121</td>\n",
       "      <td>negative</td>\n",
       "    </tr>\n",
       "    <tr>\n",
       "      <th>11</th>\n",
       "      <td>11</td>\n",
       "      <td>67</td>\n",
       "      <td>F</td>\n",
       "      <td>t</td>\n",
       "      <td>f</td>\n",
       "      <td>f</td>\n",
       "      <td>f</td>\n",
       "      <td>f</td>\n",
       "      <td>f</td>\n",
       "      <td>f</td>\n",
       "      <td>...</td>\n",
       "      <td>0.03</td>\n",
       "      <td>f</td>\n",
       "      <td>?</td>\n",
       "      <td>t</td>\n",
       "      <td>152</td>\n",
       "      <td>t</td>\n",
       "      <td>0.99</td>\n",
       "      <td>t</td>\n",
       "      <td>153</td>\n",
       "      <td>negative</td>\n",
       "    </tr>\n",
       "    <tr>\n",
       "      <th>12</th>\n",
       "      <td>12</td>\n",
       "      <td>71</td>\n",
       "      <td>F</td>\n",
       "      <td>f</td>\n",
       "      <td>f</td>\n",
       "      <td>f</td>\n",
       "      <td>t</td>\n",
       "      <td>f</td>\n",
       "      <td>f</td>\n",
       "      <td>f</td>\n",
       "      <td>...</td>\n",
       "      <td>0.03</td>\n",
       "      <td>t</td>\n",
       "      <td>3.8</td>\n",
       "      <td>t</td>\n",
       "      <td>171</td>\n",
       "      <td>t</td>\n",
       "      <td>1.13</td>\n",
       "      <td>t</td>\n",
       "      <td>151</td>\n",
       "      <td>negative</td>\n",
       "    </tr>\n",
       "    <tr>\n",
       "      <th>13</th>\n",
       "      <td>13</td>\n",
       "      <td>70</td>\n",
       "      <td>F</td>\n",
       "      <td>f</td>\n",
       "      <td>f</td>\n",
       "      <td>f</td>\n",
       "      <td>f</td>\n",
       "      <td>f</td>\n",
       "      <td>f</td>\n",
       "      <td>f</td>\n",
       "      <td>...</td>\n",
       "      <td>0.005</td>\n",
       "      <td>t</td>\n",
       "      <td>2.6</td>\n",
       "      <td>t</td>\n",
       "      <td>160</td>\n",
       "      <td>t</td>\n",
       "      <td>0.88</td>\n",
       "      <td>t</td>\n",
       "      <td>180</td>\n",
       "      <td>hyperthyroid</td>\n",
       "    </tr>\n",
       "    <tr>\n",
       "      <th>14</th>\n",
       "      <td>14</td>\n",
       "      <td>70</td>\n",
       "      <td>F</td>\n",
       "      <td>f</td>\n",
       "      <td>f</td>\n",
       "      <td>f</td>\n",
       "      <td>f</td>\n",
       "      <td>f</td>\n",
       "      <td>f</td>\n",
       "      <td>f</td>\n",
       "      <td>...</td>\n",
       "      <td>0.005</td>\n",
       "      <td>t</td>\n",
       "      <td>2.6</td>\n",
       "      <td>t</td>\n",
       "      <td>160</td>\n",
       "      <td>t</td>\n",
       "      <td>0.88</td>\n",
       "      <td>t</td>\n",
       "      <td>180</td>\n",
       "      <td>hyperthyroid</td>\n",
       "    </tr>\n",
       "  </tbody>\n",
       "</table>\n",
       "<p>15 rows × 28 columns</p>\n",
       "</div>"
      ],
      "text/plain": [
       "    S.no  Age Sex On Thyroxine Query on Thyroxine On Antithyroid Medication  \\\n",
       "0      0   41   F            f                  f                         f   \n",
       "1      1   23   F            f                  f                         f   \n",
       "2      2   46   M            f                  f                         f   \n",
       "3      3   70   F            t                  f                         f   \n",
       "4      4   70   F            f                  f                         f   \n",
       "5      5   18   F            t                  f                         f   \n",
       "6      6   59   F            f                  f                         f   \n",
       "7      7   80   F            f                  f                         f   \n",
       "8      8   66   F            f                  f                         f   \n",
       "9      9   68   M            f                  f                         f   \n",
       "10    10   84   F            f                  f                         f   \n",
       "11    11   67   F            t                  f                         f   \n",
       "12    12   71   F            f                  f                         f   \n",
       "13    13   70   F            f                  f                         f   \n",
       "14    14   70   F            f                  f                         f   \n",
       "\n",
       "   Sick Pregnant Thyroid Surgery I131 Treatment  ...    TSH T3 Measured   T3  \\\n",
       "0     f        f               f              f  ...    1.3           t  2.5   \n",
       "1     f        f               f              f  ...    4.1           t    2   \n",
       "2     f        f               f              f  ...   0.98           f    ?   \n",
       "3     f        f               f              f  ...   0.16           t  1.9   \n",
       "4     f        f               f              f  ...   0.72           t  1.2   \n",
       "5     f        f               f              f  ...   0.03           f    ?   \n",
       "6     f        f               f              f  ...      ?           f    ?   \n",
       "7     f        f               f              f  ...    2.2           t  0.6   \n",
       "8     f        f               f              f  ...    0.6           t  2.2   \n",
       "9     f        f               f              f  ...    2.4           t  1.6   \n",
       "10    f        f               f              f  ...    1.1           t  2.2   \n",
       "11    f        f               f              f  ...   0.03           f    ?   \n",
       "12    t        f               f              f  ...   0.03           t  3.8   \n",
       "13    f        f               f              f  ...  0.005           t  2.6   \n",
       "14    f        f               f              f  ...  0.005           t  2.6   \n",
       "\n",
       "   TT4 Measured  TT4 T4U Measured   T4U FTI Measured  FTI      Category  \n",
       "0             t  125            t  1.14            t  109      negative  \n",
       "1             t  102            f     ?            f    ?      negative  \n",
       "2             t  109            t  0.91            t  120      negative  \n",
       "3             t  175            f     ?            f    ?      negative  \n",
       "4             t   61            t  0.87            t   70      negative  \n",
       "5             t  183            t   1.3            t  141      negative  \n",
       "6             t   72            t  0.92            t   78      negative  \n",
       "7             t   80            t   0.7            t  115      negative  \n",
       "8             t  123            t  0.93            t  132      negative  \n",
       "9             t   83            t  0.89            t   93      negative  \n",
       "10            t  115            t  0.95            t  121      negative  \n",
       "11            t  152            t  0.99            t  153      negative  \n",
       "12            t  171            t  1.13            t  151      negative  \n",
       "13            t  160            t  0.88            t  180  hyperthyroid  \n",
       "14            t  160            t  0.88            t  180  hyperthyroid  \n",
       "\n",
       "[15 rows x 28 columns]"
      ]
     },
     "execution_count": 5,
     "metadata": {},
     "output_type": "execute_result"
    }
   ],
   "source": [
    "## Print the first five rows of the data\n",
    "data\n"
   ]
  },
  {
   "cell_type": "code",
   "execution_count": 6,
   "metadata": {},
   "outputs": [
    {
     "data": {
      "text/plain": [
       "(15, 28)"
      ]
     },
     "execution_count": 6,
     "metadata": {},
     "output_type": "execute_result"
    }
   ],
   "source": [
    "## Shape of the data\n",
    "data.shape"
   ]
  },
  {
   "cell_type": "code",
   "execution_count": 7,
   "metadata": {},
   "outputs": [
    {
     "name": "stdout",
     "output_type": "stream",
     "text": [
      "No of hyperthyroid in Dataset: 2\n",
      "No of hypothyroid in Dataset: 0\n",
      "No of sick in Dataset: 0\n",
      "No of negative in Dataset: 13\n"
     ]
    }
   ],
   "source": [
    "n = len(data[data['Category'] == 'hyperthyroid'])\n",
    "print(\"No of hyperthyroid in Dataset:\",n)\n",
    "\n",
    "n1 = len(data[data['Category'] == 'hypothyroid'])\n",
    "print(\"No of hypothyroid in Dataset:\",n1)\n",
    "\n",
    "n2 = len(data[data['Category'] == 'sick'])\n",
    "print(\"No of sick in Dataset:\",n2)\n",
    "\n",
    "n3 = len(data[data['Category'] == 'negative'])\n",
    "print(\"No of negative in Dataset:\",n3)"
   ]
  },
  {
   "cell_type": "markdown",
   "metadata": {},
   "source": [
    "##### The data has 3772 rows and 30 columns."
   ]
  },
  {
   "cell_type": "code",
   "execution_count": 8,
   "metadata": {},
   "outputs": [
    {
     "data": {
      "text/plain": [
       "Index(['S.no', 'Age', 'Sex', 'On Thyroxine', 'Query on Thyroxine',\n",
       "       'On Antithyroid Medication', 'Sick', 'Pregnant', 'Thyroid Surgery',\n",
       "       'I131 Treatment', 'Query Hypothyroid', 'Query Hyperthyroid', 'Lithium',\n",
       "       'Goitre', 'Tumor', 'Hypopituitary', 'Psych', 'TSH Measured', 'TSH',\n",
       "       'T3 Measured', 'T3', 'TT4 Measured', 'TT4', 'T4U Measured', 'T4U',\n",
       "       'FTI Measured', 'FTI', 'Category'],\n",
       "      dtype='object')"
      ]
     },
     "execution_count": 8,
     "metadata": {},
     "output_type": "execute_result"
    }
   ],
   "source": [
    "## Columns\n",
    "data.columns"
   ]
  },
  {
   "cell_type": "code",
   "execution_count": 9,
   "metadata": {},
   "outputs": [
    {
     "data": {
      "text/plain": [
       "S.no                         0\n",
       "Age                          0\n",
       "Sex                          0\n",
       "On Thyroxine                 0\n",
       "Query on Thyroxine           0\n",
       "On Antithyroid Medication    0\n",
       "Sick                         0\n",
       "Pregnant                     0\n",
       "Thyroid Surgery              0\n",
       "I131 Treatment               0\n",
       "Query Hypothyroid            0\n",
       "Query Hyperthyroid           0\n",
       "Lithium                      0\n",
       "Goitre                       0\n",
       "Tumor                        0\n",
       "Hypopituitary                0\n",
       "Psych                        0\n",
       "TSH Measured                 0\n",
       "TSH                          0\n",
       "T3 Measured                  0\n",
       "T3                           0\n",
       "TT4 Measured                 0\n",
       "TT4                          0\n",
       "T4U Measured                 0\n",
       "T4U                          0\n",
       "FTI Measured                 0\n",
       "FTI                          0\n",
       "Category                     0\n",
       "dtype: int64"
      ]
     },
     "execution_count": 9,
     "metadata": {},
     "output_type": "execute_result"
    }
   ],
   "source": [
    "## Checking the missing values\n",
    "data.isnull().sum()"
   ]
  },
  {
   "cell_type": "markdown",
   "metadata": {},
   "source": [
    "##### We can see that there are no missing values. But if we see the dataset the missing values are replaced with the invalid values like '?'. Let's replace such values with 'nan' and check for the missing values again."
   ]
  },
  {
   "cell_type": "code",
   "execution_count": 10,
   "metadata": {},
   "outputs": [
    {
     "name": "stdout",
     "output_type": "stream",
     "text": [
      "TSH 1\n",
      "T3 4\n",
      "T4U 2\n",
      "FTI 2\n"
     ]
    }
   ],
   "source": [
    "for column in data.columns:\n",
    "    count=data[column][data[column]=='?'].count()\n",
    "    if count != 0:\n",
    "        print(column,data[column][data[column]=='?'].count())"
   ]
  },
  {
   "cell_type": "code",
   "execution_count": 11,
   "metadata": {},
   "outputs": [],
   "source": [
    "## Let's drop some unnecessary columns\n",
    "data=data.drop([ 'S.no','On Thyroxine', 'Query on Thyroxine',\n",
    "       'On Antithyroid Medication',\n",
    "       'I131 Treatment', 'Query Hypothyroid', 'Query Hyperthyroid', 'Lithium',\n",
    "        'TSH Measured','Hypopituitary','Psych',\n",
    "       'T3 Measured',  'TT4 Measured', 'T4U Measured', \n",
    "       'FTI Measured'],axis=1)"
   ]
  },
  {
   "cell_type": "code",
   "execution_count": 12,
   "metadata": {},
   "outputs": [],
   "source": [
    "## Now replace the '?' values with numpy nan\n",
    "for column in data.columns:\n",
    "    count=data[column][data[column]== '?'].count()\n",
    "    if count!=0:\n",
    "        data[column]=data[column].replace('?',np.nan)"
   ]
  },
  {
   "cell_type": "code",
   "execution_count": 13,
   "metadata": {},
   "outputs": [
    {
     "name": "stdout",
     "output_type": "stream",
     "text": [
      "Age 0\n",
      "Sex 0\n",
      "Sick 0\n",
      "Pregnant 0\n",
      "Thyroid Surgery 0\n",
      "Goitre 0\n",
      "Tumor 0\n",
      "TSH 0\n",
      "T3 0\n",
      "TT4 0\n",
      "T4U 0\n",
      "FTI 0\n",
      "Category 0\n"
     ]
    }
   ],
   "source": [
    "for column in data.columns:\n",
    "    count=data[column][data[column]=='?'].count()\n",
    "    if count == 0:\n",
    "        print(column,data[column][data[column]=='?'].count())"
   ]
  },
  {
   "cell_type": "markdown",
   "metadata": {},
   "source": [
    "##### So, we have replaced all such values with 'nan' values."
   ]
  },
  {
   "cell_type": "code",
   "execution_count": 14,
   "metadata": {},
   "outputs": [
    {
     "name": "stdout",
     "output_type": "stream",
     "text": [
      "Age [41 23 46 70 18 59 80 66 68 84 67 71]\n",
      "Sex ['F' 'M']\n",
      "Sick ['f' 't']\n",
      "Pregnant ['f']\n",
      "Thyroid Surgery ['f']\n",
      "Goitre ['f']\n",
      "Tumor ['f' 't']\n",
      "TSH ['1.3' '4.1' '0.98' '0.16' '0.72' '0.03' nan '2.2' '0.6' '2.4' '1.1'\n",
      " '0.005']\n",
      "T3 ['2.5' '2' nan '1.9' '1.2' '0.6' '2.2' '1.6' '3.8' '2.6']\n",
      "TT4 [125 102 109 175  61 183  72  80 123  83 115 152 171 160]\n",
      "T4U ['1.14' nan '0.91' '0.87' '1.3' '0.92' '0.7' '0.93' '0.89' '0.95' '0.99'\n",
      " '1.13' '0.88']\n",
      "FTI ['109' nan '120' '70' '141' '78' '115' '132' '93' '121' '153' '151' '180']\n",
      "Category ['negative' 'hyperthyroid']\n"
     ]
    }
   ],
   "source": [
    "##  Unique Values\n",
    "for column in data.columns:\n",
    "    print(column,(data[column].unique()))"
   ]
  },
  {
   "cell_type": "code",
   "execution_count": 15,
   "metadata": {},
   "outputs": [
    {
     "data": {
      "text/plain": [
       "Age                 int64\n",
       "Sex                object\n",
       "Sick               object\n",
       "Pregnant           object\n",
       "Thyroid Surgery    object\n",
       "Goitre             object\n",
       "Tumor              object\n",
       "TSH                object\n",
       "T3                 object\n",
       "TT4                 int64\n",
       "T4U                object\n",
       "FTI                object\n",
       "Category           object\n",
       "dtype: object"
      ]
     },
     "execution_count": 15,
     "metadata": {},
     "output_type": "execute_result"
    }
   ],
   "source": [
    "data.dtypes"
   ]
  },
  {
   "cell_type": "markdown",
   "metadata": {},
   "source": [
    "### Handling Missing Values"
   ]
  },
  {
   "cell_type": "code",
   "execution_count": 16,
   "metadata": {},
   "outputs": [],
   "source": [
    "data['Age'].fillna((data['Age'].median()), inplace = True)\n",
    "data['TSH'].fillna((data['TSH'].median()), inplace = True)\n",
    "data['T3'].fillna((data['T3'].median()), inplace = True)\n",
    "data['TT4'].fillna((data['TT4'].median()), inplace = True)\n",
    "data['T4U'].fillna((data['T4U'].median()), inplace = True)\n",
    "data['FTI'].fillna((data['FTI'].median()), inplace = True)"
   ]
  },
  {
   "cell_type": "markdown",
   "metadata": {},
   "source": [
    "### Handling nominal categorical variables"
   ]
  },
  {
   "cell_type": "code",
   "execution_count": 17,
   "metadata": {},
   "outputs": [],
   "source": [
    "## We will perform one hot encoding for nominal categorical variable.\n",
    "sex = data[[\"Sex\"]]\n",
    "sex = pd.get_dummies(sex, drop_first= True)"
   ]
  },
  {
   "cell_type": "code",
   "execution_count": 18,
   "metadata": {},
   "outputs": [],
   "source": [
    "sick = data[[\"Sick\"]]\n",
    "sick = pd.get_dummies(sick, drop_first= True)"
   ]
  },
  {
   "cell_type": "code",
   "execution_count": 19,
   "metadata": {},
   "outputs": [],
   "source": [
    "pregnant = data[[\"Pregnant\"]]\n",
    "pregnant = pd.get_dummies(pregnant, drop_first= True)"
   ]
  },
  {
   "cell_type": "code",
   "execution_count": 20,
   "metadata": {},
   "outputs": [],
   "source": [
    "thyroid_surgery = data[[\"Thyroid Surgery\"]]\n",
    "thyroid_surgery = pd.get_dummies(thyroid_surgery, drop_first= True)"
   ]
  },
  {
   "cell_type": "code",
   "execution_count": 21,
   "metadata": {},
   "outputs": [],
   "source": [
    "goitre = data[[\"Goitre\"]]\n",
    "goitre = pd.get_dummies(goitre, drop_first= True)"
   ]
  },
  {
   "cell_type": "code",
   "execution_count": 22,
   "metadata": {},
   "outputs": [],
   "source": [
    "tumor = data[[\"Tumor\"]]\n",
    "tumor = pd.get_dummies(tumor, drop_first= True)"
   ]
  },
  {
   "cell_type": "code",
   "execution_count": 23,
   "metadata": {},
   "outputs": [
    {
     "data": {
      "text/plain": [
       "Index(['Age', 'Sex', 'Sick', 'Pregnant', 'Thyroid Surgery', 'Goitre', 'Tumor',\n",
       "       'TSH', 'T3', 'TT4', 'T4U', 'FTI', 'Category'],\n",
       "      dtype='object')"
      ]
     },
     "execution_count": 23,
     "metadata": {},
     "output_type": "execute_result"
    }
   ],
   "source": [
    "data.columns"
   ]
  },
  {
   "cell_type": "code",
   "execution_count": 24,
   "metadata": {},
   "outputs": [],
   "source": [
    "final_df = pd.concat([data,sex, sick, pregnant, thyroid_surgery,\n",
    "       goitre, tumor,], axis = 1)"
   ]
  },
  {
   "cell_type": "code",
   "execution_count": 25,
   "metadata": {},
   "outputs": [
    {
     "data": {
      "text/plain": [
       "Index(['Age', 'Sex', 'Sick', 'Pregnant', 'Thyroid Surgery', 'Goitre', 'Tumor',\n",
       "       'TSH', 'T3', 'TT4', 'T4U', 'FTI', 'Category', 'Sex_M', 'Sick_t',\n",
       "       'Tumor_t'],\n",
       "      dtype='object')"
      ]
     },
     "execution_count": 25,
     "metadata": {},
     "output_type": "execute_result"
    }
   ],
   "source": [
    "final_df.columns"
   ]
  },
  {
   "cell_type": "code",
   "execution_count": 26,
   "metadata": {},
   "outputs": [],
   "source": [
    "final_df.drop(['Sex', 'Sick', 'Pregnant', 'Thyroid Surgery',\n",
    "       'Goitre', 'Tumor'], axis = 1, inplace = True)"
   ]
  },
  {
   "cell_type": "code",
   "execution_count": 27,
   "metadata": {},
   "outputs": [
    {
     "data": {
      "text/plain": [
       "Age         0\n",
       "TSH         0\n",
       "T3          0\n",
       "TT4         0\n",
       "T4U         0\n",
       "FTI         0\n",
       "Category    0\n",
       "Sex_M       0\n",
       "Sick_t      0\n",
       "Tumor_t     0\n",
       "dtype: int64"
      ]
     },
     "execution_count": 27,
     "metadata": {},
     "output_type": "execute_result"
    }
   ],
   "source": [
    "## Checking the missing values\n",
    "final_df.isnull().sum()"
   ]
  },
  {
   "cell_type": "markdown",
   "metadata": {},
   "source": [
    "##### Great! Now the data has no missing values."
   ]
  },
  {
   "cell_type": "code",
   "execution_count": 28,
   "metadata": {},
   "outputs": [
    {
     "name": "stderr",
     "output_type": "stream",
     "text": [
      "C:\\Users\\HP\\AppData\\Local\\Temp\\ipykernel_10564\\2146441441.py:9: UserWarning: \n",
      "\n",
      "`distplot` is a deprecated function and will be removed in seaborn v0.14.0.\n",
      "\n",
      "Please adapt your code to use either `displot` (a figure-level function with\n",
      "similar flexibility) or `histplot` (an axes-level function for histograms).\n",
      "\n",
      "For a guide to updating your code to use the new functions, please see\n",
      "https://gist.github.com/mwaskom/de44147ed2974457ad6372750bbe5751\n",
      "\n",
      "  sns.distplot(final_df[column])\n",
      "C:\\Users\\HP\\AppData\\Local\\Temp\\ipykernel_10564\\2146441441.py:9: UserWarning: \n",
      "\n",
      "`distplot` is a deprecated function and will be removed in seaborn v0.14.0.\n",
      "\n",
      "Please adapt your code to use either `displot` (a figure-level function with\n",
      "similar flexibility) or `histplot` (an axes-level function for histograms).\n",
      "\n",
      "For a guide to updating your code to use the new functions, please see\n",
      "https://gist.github.com/mwaskom/de44147ed2974457ad6372750bbe5751\n",
      "\n",
      "  sns.distplot(final_df[column])\n",
      "C:\\Users\\HP\\AppData\\Local\\Temp\\ipykernel_10564\\2146441441.py:9: UserWarning: \n",
      "\n",
      "`distplot` is a deprecated function and will be removed in seaborn v0.14.0.\n",
      "\n",
      "Please adapt your code to use either `displot` (a figure-level function with\n",
      "similar flexibility) or `histplot` (an axes-level function for histograms).\n",
      "\n",
      "For a guide to updating your code to use the new functions, please see\n",
      "https://gist.github.com/mwaskom/de44147ed2974457ad6372750bbe5751\n",
      "\n",
      "  sns.distplot(final_df[column])\n",
      "C:\\Users\\HP\\AppData\\Local\\Temp\\ipykernel_10564\\2146441441.py:9: UserWarning: \n",
      "\n",
      "`distplot` is a deprecated function and will be removed in seaborn v0.14.0.\n",
      "\n",
      "Please adapt your code to use either `displot` (a figure-level function with\n",
      "similar flexibility) or `histplot` (an axes-level function for histograms).\n",
      "\n",
      "For a guide to updating your code to use the new functions, please see\n",
      "https://gist.github.com/mwaskom/de44147ed2974457ad6372750bbe5751\n",
      "\n",
      "  sns.distplot(final_df[column])\n",
      "C:\\Users\\HP\\AppData\\Local\\Temp\\ipykernel_10564\\2146441441.py:9: UserWarning: \n",
      "\n",
      "`distplot` is a deprecated function and will be removed in seaborn v0.14.0.\n",
      "\n",
      "Please adapt your code to use either `displot` (a figure-level function with\n",
      "similar flexibility) or `histplot` (an axes-level function for histograms).\n",
      "\n",
      "For a guide to updating your code to use the new functions, please see\n",
      "https://gist.github.com/mwaskom/de44147ed2974457ad6372750bbe5751\n",
      "\n",
      "  sns.distplot(final_df[column])\n",
      "C:\\Users\\HP\\AppData\\Local\\Temp\\ipykernel_10564\\2146441441.py:9: UserWarning: \n",
      "\n",
      "`distplot` is a deprecated function and will be removed in seaborn v0.14.0.\n",
      "\n",
      "Please adapt your code to use either `displot` (a figure-level function with\n",
      "similar flexibility) or `histplot` (an axes-level function for histograms).\n",
      "\n",
      "For a guide to updating your code to use the new functions, please see\n",
      "https://gist.github.com/mwaskom/de44147ed2974457ad6372750bbe5751\n",
      "\n",
      "  sns.distplot(final_df[column])\n"
     ]
    },
    {
     "data": {
      "image/png": "[encoded data removed]",
      "text/plain": [
       "<Figure size 1000x1500 with 6 Axes>"
      ]
     },
     "metadata": {},
     "output_type": "display_data"
    }
   ],
   "source": [
    "## Let's check the distribution for our continuous data in the dataset.\n",
    "columns = ['Age','TSH','T3','TT4','T4U','FTI']\n",
    "\n",
    "plt.figure(figsize=(10,15),facecolor='white')\n",
    "plotnumber = 1\n",
    "\n",
    "for column in columns:\n",
    "    ax = plt.subplot(3,2,plotnumber)\n",
    "    sns.distplot(final_df[column])\n",
    "    plt.xlabel(column,fontsize=10)\n",
    "    plotnumber+=1\n",
    "plt.show()"
   ]
  },
  {
   "cell_type": "markdown",
   "metadata": {},
   "source": [
    "##### The graph TSH heavyly skewed towards left. We drop it."
   ]
  },
  {
   "cell_type": "code",
   "execution_count": 29,
   "metadata": {},
   "outputs": [],
   "source": [
    "final_df = final_df.drop(['TSH'], axis = 1)"
   ]
  },
  {
   "cell_type": "code",
   "execution_count": 30,
   "metadata": {},
   "outputs": [],
   "source": [
    "from sklearn.preprocessing import LabelEncoder\n",
    "lblEn=LabelEncoder()\n",
    "final_df['Category']=lblEn.fit_transform(final_df['Category'])"
   ]
  },
  {
   "cell_type": "code",
   "execution_count": 31,
   "metadata": {},
   "outputs": [
    {
     "data": {
      "text/plain": [
       "<Axes: ylabel='count'>"
      ]
     },
     "execution_count": 31,
     "metadata": {},
     "output_type": "execute_result"
    },
    {
     "data": {
      "image/png": "[encoded data removed]",
      "text/plain": [
       "<Figure size 640x480 with 1 Axes>"
      ]
     },
     "metadata": {},
     "output_type": "display_data"
    }
   ],
   "source": [
    "sns.countplot(final_df['Category'])"
   ]
  },
  {
   "cell_type": "code",
   "execution_count": 32,
   "metadata": {},
   "outputs": [
    {
     "data": {
      "image/png": "[encoded data removed]",
      "text/plain": [
       "<Figure size 1200x600 with 1 Axes>"
      ]
     },
     "metadata": {},
     "output_type": "display_data"
    }
   ],
   "source": [
    "data['TT4'] = pd.to_numeric(data['TT4'])\n",
    "\n",
    "plt.figure(figsize=(12,6))\n",
    "sns.boxplot(x = \"Category\", y = \"TT4\", data = data)\n",
    "plt.title(\"Type of Thyroid vs TT4\")\n",
    "plt.xlabel(\"Type of Thyroid\")\n",
    "plt.ylabel(\"TT4\")\n",
    "plt.show()"
   ]
  },
  {
   "cell_type": "code",
   "execution_count": 33,
   "metadata": {},
   "outputs": [
    {
     "data": {
      "image/png": "[encoded data removed]",
      "text/plain": [
       "<Figure size 1200x600 with 1 Axes>"
      ]
     },
     "metadata": {},
     "output_type": "display_data"
    }
   ],
   "source": [
    "data['TSH'] = pd.to_numeric(data['TSH'])\n",
    "\n",
    "plt.figure(figsize=(12,6))\n",
    "sns.boxplot(x = \"Category\", y = \"TSH\", data = data)\n",
    "plt.title(\"Type of Thyroid vs TSH\")\n",
    "plt.xlabel(\"Type of Thyroid\")\n",
    "plt.ylabel(\"TSH\")\n",
    "plt.show()"
   ]
  },
  {
   "cell_type": "code",
   "execution_count": 34,
   "metadata": {},
   "outputs": [
    {
     "data": {
      "image/png": "[encoded data removed]",
      "text/plain": [
       "<Figure size 1200x600 with 1 Axes>"
      ]
     },
     "metadata": {},
     "output_type": "display_data"
    }
   ],
   "source": [
    "data['T4U'] = pd.to_numeric(data['T4U'])\n",
    "\n",
    "plt.figure(figsize=(12,6))\n",
    "sns.boxplot(x = \"Category\", y = \"T4U\", data = data)\n",
    "plt.title(\"Type of Thyroid vs T4U\")\n",
    "plt.xlabel(\"Type of Thyroid\")\n",
    "plt.ylabel(\"T4U\")\n",
    "plt.show()"
   ]
  },
  {
   "cell_type": "code",
   "execution_count": 35,
   "metadata": {},
   "outputs": [
    {
     "data": {
      "image/png": "[encoded data removed]",
      "text/plain": [
       "<Figure size 1200x600 with 1 Axes>"
      ]
     },
     "metadata": {},
     "output_type": "display_data"
    }
   ],
   "source": [
    "data['FTI'] = pd.to_numeric(data['FTI'])\n",
    "\n",
    "plt.figure(figsize=(12,6))\n",
    "sns.boxplot(x = \"Category\", y = \"FTI\", data = data)\n",
    "plt.title(\"Type of Thyroid vs FTI\")\n",
    "plt.xlabel(\"Type of Thyroid\")\n",
    "plt.ylabel(\"FTI\")\n",
    "plt.show()"
   ]
  },
  {
   "cell_type": "markdown",
   "metadata": {},
   "source": [
    "##### We can see that the dataset is highly imbalanced.\n"
   ]
  },
  {
   "cell_type": "code",
   "execution_count": 36,
   "metadata": {},
   "outputs": [],
   "source": [
    "X=final_df.drop(['Category'],axis=1)\n",
    "y=final_df.Category"
   ]
  },
  {
   "cell_type": "code",
   "execution_count": 37,
   "metadata": {
    "scrolled": true
   },
   "outputs": [
    {
     "data": {
      "text/plain": [
       "Index(['Age', 'T3', 'TT4', 'T4U', 'FTI', 'Sex_M', 'Sick_t', 'Tumor_t'], dtype='object')"
      ]
     },
     "execution_count": 37,
     "metadata": {},
     "output_type": "execute_result"
    },
    {
     "data": {
      "image/png": "[encoded data removed]",
      "text/plain": [
       "<Figure size 640x480 with 1 Axes>"
      ]
     },
     "metadata": {},
     "output_type": "display_data"
    }
   ],
   "source": [
    "# 42 input\n",
    "\n",
    "from imblearn.over_sampling import SMOTENC,RandomOverSampler,KMeansSMOTE\n",
    "\n",
    "\n",
    "rdsmple=RandomOverSampler()\n",
    "X_sampled,y_sampled=rdsmple.fit_resample(X,y)\n",
    "\n",
    "X_sampled.shape\n",
    "\n",
    "\n",
    "X_sampled=pd.DataFrame(data=X_sampled,columns=X.columns)\n",
    "\n",
    "\n",
    "X_sampled\n",
    "\n",
    "\n",
    "sns.countplot(y_sampled)\n",
    "\n",
    "\n",
    "X_sampled.columns\n"
   ]
  },
  {
   "cell_type": "markdown",
   "metadata": {},
   "source": [
    "##### Great! Our dataset is balanced now."
   ]
  },
  {
   "cell_type": "code",
   "execution_count": 38,
   "metadata": {},
   "outputs": [],
   "source": [
    "from sklearn.model_selection import train_test_split\n",
    "X_train,X_test,y_train,y_test=train_test_split(X_sampled,y_sampled,test_size=0.2,random_state=0)"
   ]
  },
  {
   "cell_type": "markdown",
   "metadata": {},
   "source": [
    "### Fitting data in various models"
   ]
  },
  {
   "cell_type": "code",
   "execution_count": 39,
   "metadata": {},
   "outputs": [],
   "source": [
    "def svm_classifier(X_train,X_test,y_train,y_test):\n",
    "    classifier_svm=SVC(kernel='rbf',random_state=0)\n",
    "    classifier_svm.fit(X_train,y_train)\n",
    "    y_pred=classifier_svm.predict(X_test)\n",
    "    cm=confusion_matrix(y_test,y_pred)\n",
    "    return (f'Train Score:{classifier_svm.score(X_train,y_train)}\\n Test Score:{classifier_svm.score(X_test,y_test)}')"
   ]
  },
  {
   "cell_type": "code",
   "execution_count": 40,
   "metadata": {},
   "outputs": [],
   "source": [
    "def knn_classifier(X_train,X_test,y_train,y_test):\n",
    "    classifier_knn=KNeighborsClassifier(metric='minkowski',p=2)\n",
    "    classifier_knn.fit(X_train,y_train)\n",
    "    y_pred=classifier_knn.predict(X_test)\n",
    "    cm=confusion_matrix(y_test,y_pred)\n",
    "    return (f'Train Score:{classifier_knn.score(X_train,y_train)}\\n Test Score:{classifier_knn.score(X_test,y_test)}')"
   ]
  },
  {
   "cell_type": "code",
   "execution_count": 41,
   "metadata": {},
   "outputs": [],
   "source": [
    "def tree_classifier(X_train,X_test,y_train,y_test):\n",
    "    classifier_tree=DecisionTreeClassifier(criterion='entropy',random_state=0)\n",
    "    classifier_tree.fit(X_train,y_train)\n",
    "    y_pred=classifier_tree.predict(X_test)\n",
    "    cm=confusion_matrix(y_test,y_pred)\n",
    "    return (f'Train Score:{classifier_tree.score(X_train,y_train)}\\n Test Score:{classifier_tree.score(X_test,y_test)}')"
   ]
  },
  {
   "cell_type": "code",
   "execution_count": 42,
   "metadata": {},
   "outputs": [],
   "source": [
    "def forest_classifier(X_train,X_test,y_train,y_test):\n",
    "    classifier_forest=RandomForestClassifier(criterion='entropy',random_state=0)\n",
    "    classifier_forest.fit(X_train,y_train)\n",
    "    y_pred=classifier_forest.predict(X_test)\n",
    "    cm=confusion_matrix(y_test,y_pred)\n",
    "    return (f'Train Score:{classifier_forest.score(X_train,y_train)}\\n Test Score:{classifier_forest.score(X_test,y_test)}')"
   ]
  },
  {
   "cell_type": "code",
   "execution_count": 43,
   "metadata": {},
   "outputs": [],
   "source": [
    "def print_score(X_train, X_test, y_train, y_test):\n",
    "    print(\"SVM:\\n\")\n",
    "    result1=svm_classifier(X_train, X_test, y_train, y_test)\n",
    "    print(result1)\n",
    "    print(\"-\"*100)\n",
    "    print()\n",
    "\n",
    "    print(\"KNN:\\n\")\n",
    "    result2=knn_classifier(X_train, X_test, y_train, y_test)\n",
    "    print(result2)\n",
    "\n",
    "    print(\"-\"*100)\n",
    "    print()\n",
    "\n",
    "    print(\"Decision Tree:\\n\")\n",
    "    result4=tree_classifier(X_train, X_test, y_train, y_test)\n",
    "    print(result4)\n",
    "\n",
    "    print(\"-\"*100)\n",
    "    print()\n",
    "\n",
    "    print(\"Random Forest:\\n\")\n",
    "    result5=forest_classifier(X_train, X_test, y_train, y_test)\n",
    "    print(result5)"
   ]
  },
  {
   "cell_type": "code",
   "execution_count": 44,
   "metadata": {},
   "outputs": [
    {
     "name": "stdout",
     "output_type": "stream",
     "text": [
      "SVM:\n",
      "\n",
      "Train Score:0.95\n",
      " Test Score:0.6666666666666666\n",
      "----------------------------------------------------------------------------------------------------\n",
      "\n",
      "KNN:\n",
      "\n",
      "Train Score:0.95\n",
      " Test Score:0.6666666666666666\n",
      "----------------------------------------------------------------------------------------------------\n",
      "\n",
      "Decision Tree:\n",
      "\n",
      "Train Score:1.0\n",
      " Test Score:1.0\n",
      "----------------------------------------------------------------------------------------------------\n",
      "\n",
      "Random Forest:\n",
      "\n",
      "Train Score:1.0\n",
      " Test Score:1.0\n",
      "Training data: \n",
      "    Age   T3  TT4   T4U    FTI  Sex_M  Sick_t  Tumor_t\n",
      "22   70  2.6  160  0.88    180      0       0        0\n",
      "13   70  2.6  160  0.88    180      0       0        0\n",
      "18   70  2.6  160  0.88    180      0       0        0\n",
      "19   70  2.6  160  0.88    180      0       0        0\n",
      "16   70  2.6  160  0.88    180      0       0        0\n",
      "1    23    2  102  0.92  121.0      0       0        0\n",
      "10   84  2.2  115  0.95    121      0       0        1\n",
      "25   70  2.6  160  0.88    180      0       0        0\n",
      "24   70  2.6  160  0.88    180      0       0        0\n",
      "8    66  2.2  123  0.93    132      0       0        1\n",
      "6    59  2.2   72  0.92     78      0       0        0\n",
      "4    70  1.2   61  0.87     70      0       0        0\n",
      "9    68  1.6   83  0.89     93      1       0        0\n",
      "7    80  0.6   80   0.7    115      0       0        0\n",
      "23   70  2.6  160  0.88    180      0       0        0\n",
      "3    70  1.9  175  0.92  121.0      0       0        0\n",
      "0    41  2.5  125  1.14    109      0       0        0\n",
      "21   70  2.6  160  0.88    180      0       0        0\n",
      "15   70  2.6  160  0.88    180      0       0        0\n",
      "12   71  3.8  171  1.13    151      0       1        0\n",
      "22    0\n",
      "13    0\n",
      "18    0\n",
      "19    0\n",
      "16    0\n",
      "1     1\n",
      "10    1\n",
      "25    0\n",
      "24    0\n",
      "8     1\n",
      "6     1\n",
      "4     1\n",
      "9     1\n",
      "7     1\n",
      "23    0\n",
      "3     1\n",
      "0     1\n",
      "21    0\n",
      "15    0\n",
      "12    1\n",
      "Name: Category, dtype: int32\n",
      "Test data:\n",
      "    Age   T3  TT4   T4U  FTI  Sex_M  Sick_t  Tumor_t\n",
      "2    46  2.2  109  0.91  120      1       0        0\n",
      "20   70  2.6  160  0.88  180      0       0        0\n",
      "14   70  2.6  160  0.88  180      0       0        0\n",
      "17   70  2.6  160  0.88  180      0       0        0\n",
      "5    18  2.2  183   1.3  141      0       0        0\n",
      "11   67  2.2  152  0.99  153      0       0        0\n",
      "2     1\n",
      "20    0\n",
      "14    0\n",
      "17    0\n",
      "5     1\n",
      "11    1\n",
      "Name: Category, dtype: int32\n"
     ]
    }
   ],
   "source": [
    "print_score(X_train, X_test, y_train, y_test)\n",
    "print('Training data: ')\n",
    "print(X_train)\n",
    "print(y_train)\n",
    "print('Test data:')\n",
    "print(X_test)\n",
    "print(y_test)"
   ]
  },
  {
   "cell_type": "code",
   "execution_count": 45,
   "metadata": {},
   "outputs": [
    {
     "name": "stdout",
     "output_type": "stream",
     "text": [
      "y_pred [1 0 0 0 1 1]\n"
     ]
    },
    {
     "data": {
      "text/plain": [
       "array([[3, 0],\n",
       "       [0, 3]], dtype=int64)"
      ]
     },
     "execution_count": 45,
     "metadata": {},
     "output_type": "execute_result"
    }
   ],
   "source": [
    "## Performance Metrics\n",
    "classifier_forest = RandomForestClassifier(criterion = 'entropy')\n",
    "classifier_forest.fit(X_train,y_train)\n",
    "y_pred = classifier_forest.predict(X_test)\n",
    "print('y_pred',y_pred)\n",
    "cm = confusion_matrix(y_test,y_pred)\n",
    "cm\n"
   ]
  },
  {
   "cell_type": "code",
   "execution_count": 46,
   "metadata": {},
   "outputs": [],
   "source": [
    "## Classification Report (Accuracy, Precision, Recall and F1 Score)\n",
    "from sklearn.metrics import roc_auc_score,roc_curve,classification_report"
   ]
  },
  {
   "cell_type": "code",
   "execution_count": 47,
   "metadata": {
    "scrolled": true
   },
   "outputs": [
    {
     "name": "stdout",
     "output_type": "stream",
     "text": [
      "              precision    recall  f1-score   support\n",
      "\n",
      "           0       1.00      1.00      1.00         3\n",
      "           1       1.00      1.00      1.00         3\n",
      "\n",
      "    accuracy                           1.00         6\n",
      "   macro avg       1.00      1.00      1.00         6\n",
      "weighted avg       1.00      1.00      1.00         6\n",
      "\n"
     ]
    }
   ],
   "source": [
    "print(classification_report(y_test,y_pred))"
   ]
  },
  {
   "cell_type": "code",
   "execution_count": null,
   "metadata": {},
   "outputs": [],
   "source": []
  }
 ],
 "metadata": {
  "kernelspec": {
   "display_name": "Python 3 (ipykernel)",
   "language": "python",
   "name": "python3"
  },
  "language_info": {
   "codemirror_mode": {
    "name": "ipython",
    "version": 3
   },
   "file_extension": ".py",
   "mimetype": "text/x-python",
   "name": "python",
   "nbconvert_exporter": "python",
   "pygments_lexer": "ipython3",
   "version": "3.10.9"
  }
 },
 "nbformat": 4,
 "nbformat_minor": 4
}
